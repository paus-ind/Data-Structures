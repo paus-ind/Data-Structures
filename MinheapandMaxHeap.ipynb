{
 "cells": [
  {
   "cell_type": "code",
   "execution_count": 9,
   "metadata": {},
   "outputs": [
    {
     "name": "stdout",
     "output_type": "stream",
     "text": [
      "1\n",
      "2\n",
      "3 5 9 7\n",
      "[3, 5, 7]\n",
      "[9, 7, 5]\n"
     ]
    }
   ],
   "source": [
    "import heapq\n",
    "\n",
    "arr = [5, 7, 9, 1, 3]\n",
    "\n",
    "heapq.heapify(arr)\n",
    "\n",
    "heapq.heappush(arr,2)\n",
    "\n",
    "print(heapq.heappop(arr))\n",
    "\n",
    "print(heapq.heappop(arr))\n",
    "\n",
    "print(*arr)\n",
    "\n",
    "print(heapq.nsmallest(3,arr))\n",
    "\n",
    "print(heapq.nlargest(3,arr))\n"
   ]
  },
  {
   "cell_type": "code",
   "execution_count": 11,
   "metadata": {},
   "outputs": [
    {
     "name": "stdout",
     "output_type": "stream",
     "text": [
      "9\n",
      "7\n",
      "5 3 1\n"
     ]
    }
   ],
   "source": [
    "import heapq\n",
    "\n",
    "arr = [5, 7, 9, 1, 3]\n",
    "\n",
    "heapq._heapify_max(arr)\n",
    "\n",
    "print(heapq._heappop_max(arr))\n",
    "\n",
    "print(heapq._heappop_max(arr))\n",
    "\n",
    "print(*arr)"
   ]
  },
  {
   "cell_type": "code",
   "execution_count": null,
   "metadata": {},
   "outputs": [],
   "source": []
  }
 ],
 "metadata": {
  "kernelspec": {
   "display_name": "Python 3",
   "language": "python",
   "name": "python3"
  },
  "language_info": {
   "codemirror_mode": {
    "name": "ipython",
    "version": 3
   },
   "file_extension": ".py",
   "mimetype": "text/x-python",
   "name": "python",
   "nbconvert_exporter": "python",
   "pygments_lexer": "ipython3",
   "version": "3.7.7"
  }
 },
 "nbformat": 4,
 "nbformat_minor": 4
}
